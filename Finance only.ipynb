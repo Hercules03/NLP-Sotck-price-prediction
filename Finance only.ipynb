{
 "cells": [
  {
   "cell_type": "code",
   "execution_count": 1,
   "metadata": {},
   "outputs": [],
   "source": [
    "import os\n",
    "import numpy as np\n",
    "import csv\n",
    "import pandas as pd\n",
    "import matplotlib.pyplot as plt\n",
    "from matplotlib.dates import DateFormatter\n",
    "import math\n",
    "import time\n",
    "import tensorflow as tf\n",
    "from tensorflow.keras.layers import GRU, LSTM, Bidirectional, Dense, Flatten, Conv1D, BatchNormalization, LeakyReLU, Dropout\n",
    "from tensorflow.keras import Sequential\n",
    "from tensorflow.keras.utils import plot_model\n",
    "from pickle import load\n",
    "from sklearn.metrics import mean_squared_error\n",
    "from tqdm import tqdm\n",
    "import statsmodels.api as sm\n",
    "from math import sqrt\n",
    "from datetime import datetime, timedelta\n",
    "from sklearn.preprocessing import MinMaxScaler\n",
    "from pickle import dump\n",
    "\n",
    "\n",
    "import warnings\n",
    "warnings.filterwarnings(\"ignore\")"
   ]
  },
  {
   "cell_type": "code",
   "execution_count": 4,
   "metadata": {},
   "outputs": [],
   "source": [
    "from matplotlib import style \n",
    "plt.style.use('ggplot')"
   ]
  },
  {
   "cell_type": "code",
   "execution_count": 5,
   "metadata": {},
   "outputs": [
    {
     "name": "stdout",
     "output_type": "stream",
     "text": [
      "(6300, 8)\n"
     ]
    },
    {
     "data": {
      "text/html": [
       "<div>\n",
       "<style scoped>\n",
       "    .dataframe tbody tr th:only-of-type {\n",
       "        vertical-align: middle;\n",
       "    }\n",
       "\n",
       "    .dataframe tbody tr th {\n",
       "        vertical-align: top;\n",
       "    }\n",
       "\n",
       "    .dataframe thead th {\n",
       "        text-align: right;\n",
       "    }\n",
       "</style>\n",
       "<table border=\"1\" class=\"dataframe\">\n",
       "  <thead>\n",
       "    <tr style=\"text-align: right;\">\n",
       "      <th></th>\n",
       "      <th>Date</th>\n",
       "      <th>Open</th>\n",
       "      <th>High</th>\n",
       "      <th>Low</th>\n",
       "      <th>Close</th>\n",
       "      <th>Adj Close</th>\n",
       "      <th>Volume</th>\n",
       "      <th>Stock Name</th>\n",
       "    </tr>\n",
       "  </thead>\n",
       "  <tbody>\n",
       "    <tr>\n",
       "      <th>0</th>\n",
       "      <td>2021-09-30</td>\n",
       "      <td>260.333344</td>\n",
       "      <td>263.043335</td>\n",
       "      <td>258.333344</td>\n",
       "      <td>258.493347</td>\n",
       "      <td>258.493347</td>\n",
       "      <td>53868000</td>\n",
       "      <td>TSLA</td>\n",
       "    </tr>\n",
       "    <tr>\n",
       "      <th>1</th>\n",
       "      <td>2021-10-01</td>\n",
       "      <td>259.466675</td>\n",
       "      <td>260.260010</td>\n",
       "      <td>254.529999</td>\n",
       "      <td>258.406677</td>\n",
       "      <td>258.406677</td>\n",
       "      <td>51094200</td>\n",
       "      <td>TSLA</td>\n",
       "    </tr>\n",
       "    <tr>\n",
       "      <th>2</th>\n",
       "      <td>2021-10-04</td>\n",
       "      <td>265.500000</td>\n",
       "      <td>268.989990</td>\n",
       "      <td>258.706665</td>\n",
       "      <td>260.510010</td>\n",
       "      <td>260.510010</td>\n",
       "      <td>91449900</td>\n",
       "      <td>TSLA</td>\n",
       "    </tr>\n",
       "    <tr>\n",
       "      <th>3</th>\n",
       "      <td>2021-10-05</td>\n",
       "      <td>261.600006</td>\n",
       "      <td>265.769989</td>\n",
       "      <td>258.066681</td>\n",
       "      <td>260.196655</td>\n",
       "      <td>260.196655</td>\n",
       "      <td>55297800</td>\n",
       "      <td>TSLA</td>\n",
       "    </tr>\n",
       "    <tr>\n",
       "      <th>4</th>\n",
       "      <td>2021-10-06</td>\n",
       "      <td>258.733337</td>\n",
       "      <td>262.220001</td>\n",
       "      <td>257.739990</td>\n",
       "      <td>260.916656</td>\n",
       "      <td>260.916656</td>\n",
       "      <td>43898400</td>\n",
       "      <td>TSLA</td>\n",
       "    </tr>\n",
       "  </tbody>\n",
       "</table>\n",
       "</div>"
      ],
      "text/plain": [
       "         Date        Open        High         Low       Close   Adj Close  \\\n",
       "0  2021-09-30  260.333344  263.043335  258.333344  258.493347  258.493347   \n",
       "1  2021-10-01  259.466675  260.260010  254.529999  258.406677  258.406677   \n",
       "2  2021-10-04  265.500000  268.989990  258.706665  260.510010  260.510010   \n",
       "3  2021-10-05  261.600006  265.769989  258.066681  260.196655  260.196655   \n",
       "4  2021-10-06  258.733337  262.220001  257.739990  260.916656  260.916656   \n",
       "\n",
       "     Volume Stock Name  \n",
       "0  53868000       TSLA  \n",
       "1  51094200       TSLA  \n",
       "2  91449900       TSLA  \n",
       "3  55297800       TSLA  \n",
       "4  43898400       TSLA  "
      ]
     },
     "execution_count": 5,
     "metadata": {},
     "output_type": "execute_result"
    }
   ],
   "source": [
    "all_stocks = pd.read_csv('stock_yfinance_data.csv')\n",
    "print(all_stocks.shape)\n",
    "all_stocks.head()"
   ]
  },
  {
   "cell_type": "markdown",
   "metadata": {},
   "source": [
    "Filter Tesla & convert data format"
   ]
  },
  {
   "cell_type": "code",
   "execution_count": 6,
   "metadata": {},
   "outputs": [],
   "source": [
    "stock_df = all_stocks[all_stocks['Stock Name'] == \"TSLA\"]\n",
    "stock_df['Date'] = pd.to_datetime(stock_df['Date'])\n",
    "stock_df['Date'] = stock_df['Date'].dt.date"
   ]
  },
  {
   "cell_type": "code",
   "execution_count": 7,
   "metadata": {},
   "outputs": [
    {
     "data": {
      "text/html": [
       "<div>\n",
       "<style scoped>\n",
       "    .dataframe tbody tr th:only-of-type {\n",
       "        vertical-align: middle;\n",
       "    }\n",
       "\n",
       "    .dataframe tbody tr th {\n",
       "        vertical-align: top;\n",
       "    }\n",
       "\n",
       "    .dataframe thead th {\n",
       "        text-align: right;\n",
       "    }\n",
       "</style>\n",
       "<table border=\"1\" class=\"dataframe\">\n",
       "  <thead>\n",
       "    <tr style=\"text-align: right;\">\n",
       "      <th></th>\n",
       "      <th>Date</th>\n",
       "      <th>Open</th>\n",
       "      <th>High</th>\n",
       "      <th>Low</th>\n",
       "      <th>Close</th>\n",
       "      <th>Adj Close</th>\n",
       "      <th>Volume</th>\n",
       "      <th>Stock Name</th>\n",
       "    </tr>\n",
       "  </thead>\n",
       "  <tbody>\n",
       "    <tr>\n",
       "      <th>0</th>\n",
       "      <td>2021-09-30</td>\n",
       "      <td>260.333344</td>\n",
       "      <td>263.043335</td>\n",
       "      <td>258.333344</td>\n",
       "      <td>258.493347</td>\n",
       "      <td>258.493347</td>\n",
       "      <td>53868000</td>\n",
       "      <td>TSLA</td>\n",
       "    </tr>\n",
       "    <tr>\n",
       "      <th>1</th>\n",
       "      <td>2021-10-01</td>\n",
       "      <td>259.466675</td>\n",
       "      <td>260.260010</td>\n",
       "      <td>254.529999</td>\n",
       "      <td>258.406677</td>\n",
       "      <td>258.406677</td>\n",
       "      <td>51094200</td>\n",
       "      <td>TSLA</td>\n",
       "    </tr>\n",
       "    <tr>\n",
       "      <th>2</th>\n",
       "      <td>2021-10-04</td>\n",
       "      <td>265.500000</td>\n",
       "      <td>268.989990</td>\n",
       "      <td>258.706665</td>\n",
       "      <td>260.510010</td>\n",
       "      <td>260.510010</td>\n",
       "      <td>91449900</td>\n",
       "      <td>TSLA</td>\n",
       "    </tr>\n",
       "    <tr>\n",
       "      <th>3</th>\n",
       "      <td>2021-10-05</td>\n",
       "      <td>261.600006</td>\n",
       "      <td>265.769989</td>\n",
       "      <td>258.066681</td>\n",
       "      <td>260.196655</td>\n",
       "      <td>260.196655</td>\n",
       "      <td>55297800</td>\n",
       "      <td>TSLA</td>\n",
       "    </tr>\n",
       "    <tr>\n",
       "      <th>4</th>\n",
       "      <td>2021-10-06</td>\n",
       "      <td>258.733337</td>\n",
       "      <td>262.220001</td>\n",
       "      <td>257.739990</td>\n",
       "      <td>260.916656</td>\n",
       "      <td>260.916656</td>\n",
       "      <td>43898400</td>\n",
       "      <td>TSLA</td>\n",
       "    </tr>\n",
       "    <tr>\n",
       "      <th>...</th>\n",
       "      <td>...</td>\n",
       "      <td>...</td>\n",
       "      <td>...</td>\n",
       "      <td>...</td>\n",
       "      <td>...</td>\n",
       "      <td>...</td>\n",
       "      <td>...</td>\n",
       "      <td>...</td>\n",
       "    </tr>\n",
       "    <tr>\n",
       "      <th>247</th>\n",
       "      <td>2022-09-23</td>\n",
       "      <td>283.089996</td>\n",
       "      <td>284.500000</td>\n",
       "      <td>272.820007</td>\n",
       "      <td>275.329987</td>\n",
       "      <td>275.329987</td>\n",
       "      <td>63748400</td>\n",
       "      <td>TSLA</td>\n",
       "    </tr>\n",
       "    <tr>\n",
       "      <th>248</th>\n",
       "      <td>2022-09-26</td>\n",
       "      <td>271.829987</td>\n",
       "      <td>284.089996</td>\n",
       "      <td>270.309998</td>\n",
       "      <td>276.010010</td>\n",
       "      <td>276.010010</td>\n",
       "      <td>58076900</td>\n",
       "      <td>TSLA</td>\n",
       "    </tr>\n",
       "    <tr>\n",
       "      <th>249</th>\n",
       "      <td>2022-09-27</td>\n",
       "      <td>283.839996</td>\n",
       "      <td>288.670013</td>\n",
       "      <td>277.510010</td>\n",
       "      <td>282.940002</td>\n",
       "      <td>282.940002</td>\n",
       "      <td>61925200</td>\n",
       "      <td>TSLA</td>\n",
       "    </tr>\n",
       "    <tr>\n",
       "      <th>250</th>\n",
       "      <td>2022-09-28</td>\n",
       "      <td>283.079987</td>\n",
       "      <td>289.000000</td>\n",
       "      <td>277.570007</td>\n",
       "      <td>287.809998</td>\n",
       "      <td>287.809998</td>\n",
       "      <td>54664800</td>\n",
       "      <td>TSLA</td>\n",
       "    </tr>\n",
       "    <tr>\n",
       "      <th>251</th>\n",
       "      <td>2022-09-29</td>\n",
       "      <td>282.760010</td>\n",
       "      <td>283.649994</td>\n",
       "      <td>265.779999</td>\n",
       "      <td>268.209991</td>\n",
       "      <td>268.209991</td>\n",
       "      <td>77620600</td>\n",
       "      <td>TSLA</td>\n",
       "    </tr>\n",
       "  </tbody>\n",
       "</table>\n",
       "<p>252 rows × 8 columns</p>\n",
       "</div>"
      ],
      "text/plain": [
       "           Date        Open        High         Low       Close   Adj Close  \\\n",
       "0    2021-09-30  260.333344  263.043335  258.333344  258.493347  258.493347   \n",
       "1    2021-10-01  259.466675  260.260010  254.529999  258.406677  258.406677   \n",
       "2    2021-10-04  265.500000  268.989990  258.706665  260.510010  260.510010   \n",
       "3    2021-10-05  261.600006  265.769989  258.066681  260.196655  260.196655   \n",
       "4    2021-10-06  258.733337  262.220001  257.739990  260.916656  260.916656   \n",
       "..          ...         ...         ...         ...         ...         ...   \n",
       "247  2022-09-23  283.089996  284.500000  272.820007  275.329987  275.329987   \n",
       "248  2022-09-26  271.829987  284.089996  270.309998  276.010010  276.010010   \n",
       "249  2022-09-27  283.839996  288.670013  277.510010  282.940002  282.940002   \n",
       "250  2022-09-28  283.079987  289.000000  277.570007  287.809998  287.809998   \n",
       "251  2022-09-29  282.760010  283.649994  265.779999  268.209991  268.209991   \n",
       "\n",
       "       Volume Stock Name  \n",
       "0    53868000       TSLA  \n",
       "1    51094200       TSLA  \n",
       "2    91449900       TSLA  \n",
       "3    55297800       TSLA  \n",
       "4    43898400       TSLA  \n",
       "..        ...        ...  \n",
       "247  63748400       TSLA  \n",
       "248  58076900       TSLA  \n",
       "249  61925200       TSLA  \n",
       "250  54664800       TSLA  \n",
       "251  77620600       TSLA  \n",
       "\n",
       "[252 rows x 8 columns]"
      ]
     },
     "execution_count": 7,
     "metadata": {},
     "output_type": "execute_result"
    }
   ],
   "source": [
    "stock_df"
   ]
  },
  {
   "cell_type": "code",
   "execution_count": 8,
   "metadata": {},
   "outputs": [
    {
     "data": {
      "image/png": "[encoded data removed]",
      "text/plain": [
       "<Figure size 1000x600 with 1 Axes>"
      ]
     },
     "metadata": {},
     "output_type": "display_data"
    }
   ],
   "source": [
    "fig, ax1 = plt.subplots(figsize=(10,6))\n",
    "\n",
    "# Plot the stock price on ax1\n",
    "ax1.plot(stock_df['Date'], stock_df['Close'], color='#008B8B', label='Stock Price')\n",
    "ax1.set_xlabel('Date', fontsize=14)\n",
    "ax1.set_ylabel('USD', fontsize=14, color='#008B8B')\n",
    "ax1.tick_params(axis='y', labelcolor='#008B8B')\n",
    "\n",
    "# Set the title for the plot\n",
    "ax1.set_title(f\"Tesla: Stock Price from 30-09-2021 to 30-09-2022\", fontsize=18)\n",
    "\n",
    "# Optional: Add a legend\n",
    "lines, labels = ax1.get_legend_handles_labels()\n",
    "\n",
    "plt.grid(axis='x')\n",
    "plt.show()"
   ]
  },
  {
   "cell_type": "markdown",
   "metadata": {},
   "source": [
    "### Convert index to dates"
   ]
  },
  {
   "cell_type": "code",
   "execution_count": 9,
   "metadata": {},
   "outputs": [],
   "source": [
    "finance_df = stock_df.copy()"
   ]
  },
  {
   "cell_type": "code",
   "execution_count": 10,
   "metadata": {},
   "outputs": [],
   "source": [
    "finance_df.iloc[:, 1:] = pd.concat([finance_df.iloc[:, 1:].ffill()])"
   ]
  },
  {
   "cell_type": "code",
   "execution_count": 11,
   "metadata": {},
   "outputs": [],
   "source": [
    "datetime_series = pd.to_datetime(finance_df['Date'])\n",
    "datetime_index = pd.DatetimeIndex(datetime_series.values)\n",
    "dataset = finance_df.set_index(datetime_index)\n",
    "dataset = dataset.sort_values(by='Date')\n",
    "dataset = dataset.drop(columns='Date')"
   ]
  },
  {
   "cell_type": "code",
   "execution_count": 12,
   "metadata": {},
   "outputs": [
    {
     "data": {
      "text/html": [
       "<div>\n",
       "<style scoped>\n",
       "    .dataframe tbody tr th:only-of-type {\n",
       "        vertical-align: middle;\n",
       "    }\n",
       "\n",
       "    .dataframe tbody tr th {\n",
       "        vertical-align: top;\n",
       "    }\n",
       "\n",
       "    .dataframe thead th {\n",
       "        text-align: right;\n",
       "    }\n",
       "</style>\n",
       "<table border=\"1\" class=\"dataframe\">\n",
       "  <thead>\n",
       "    <tr style=\"text-align: right;\">\n",
       "      <th></th>\n",
       "      <th>Open</th>\n",
       "      <th>High</th>\n",
       "      <th>Low</th>\n",
       "      <th>Close</th>\n",
       "      <th>Adj Close</th>\n",
       "      <th>Volume</th>\n",
       "      <th>Stock Name</th>\n",
       "    </tr>\n",
       "  </thead>\n",
       "  <tbody>\n",
       "    <tr>\n",
       "      <th>2021-09-30</th>\n",
       "      <td>260.333344</td>\n",
       "      <td>263.043335</td>\n",
       "      <td>258.333344</td>\n",
       "      <td>258.493347</td>\n",
       "      <td>258.493347</td>\n",
       "      <td>53868000</td>\n",
       "      <td>TSLA</td>\n",
       "    </tr>\n",
       "    <tr>\n",
       "      <th>2021-10-01</th>\n",
       "      <td>259.466675</td>\n",
       "      <td>260.260010</td>\n",
       "      <td>254.529999</td>\n",
       "      <td>258.406677</td>\n",
       "      <td>258.406677</td>\n",
       "      <td>51094200</td>\n",
       "      <td>TSLA</td>\n",
       "    </tr>\n",
       "    <tr>\n",
       "      <th>2021-10-04</th>\n",
       "      <td>265.500000</td>\n",
       "      <td>268.989990</td>\n",
       "      <td>258.706665</td>\n",
       "      <td>260.510010</td>\n",
       "      <td>260.510010</td>\n",
       "      <td>91449900</td>\n",
       "      <td>TSLA</td>\n",
       "    </tr>\n",
       "    <tr>\n",
       "      <th>2021-10-05</th>\n",
       "      <td>261.600006</td>\n",
       "      <td>265.769989</td>\n",
       "      <td>258.066681</td>\n",
       "      <td>260.196655</td>\n",
       "      <td>260.196655</td>\n",
       "      <td>55297800</td>\n",
       "      <td>TSLA</td>\n",
       "    </tr>\n",
       "    <tr>\n",
       "      <th>2021-10-06</th>\n",
       "      <td>258.733337</td>\n",
       "      <td>262.220001</td>\n",
       "      <td>257.739990</td>\n",
       "      <td>260.916656</td>\n",
       "      <td>260.916656</td>\n",
       "      <td>43898400</td>\n",
       "      <td>TSLA</td>\n",
       "    </tr>\n",
       "    <tr>\n",
       "      <th>...</th>\n",
       "      <td>...</td>\n",
       "      <td>...</td>\n",
       "      <td>...</td>\n",
       "      <td>...</td>\n",
       "      <td>...</td>\n",
       "      <td>...</td>\n",
       "      <td>...</td>\n",
       "    </tr>\n",
       "    <tr>\n",
       "      <th>2022-09-23</th>\n",
       "      <td>283.089996</td>\n",
       "      <td>284.500000</td>\n",
       "      <td>272.820007</td>\n",
       "      <td>275.329987</td>\n",
       "      <td>275.329987</td>\n",
       "      <td>63748400</td>\n",
       "      <td>TSLA</td>\n",
       "    </tr>\n",
       "    <tr>\n",
       "      <th>2022-09-26</th>\n",
       "      <td>271.829987</td>\n",
       "      <td>284.089996</td>\n",
       "      <td>270.309998</td>\n",
       "      <td>276.010010</td>\n",
       "      <td>276.010010</td>\n",
       "      <td>58076900</td>\n",
       "      <td>TSLA</td>\n",
       "    </tr>\n",
       "    <tr>\n",
       "      <th>2022-09-27</th>\n",
       "      <td>283.839996</td>\n",
       "      <td>288.670013</td>\n",
       "      <td>277.510010</td>\n",
       "      <td>282.940002</td>\n",
       "      <td>282.940002</td>\n",
       "      <td>61925200</td>\n",
       "      <td>TSLA</td>\n",
       "    </tr>\n",
       "    <tr>\n",
       "      <th>2022-09-28</th>\n",
       "      <td>283.079987</td>\n",
       "      <td>289.000000</td>\n",
       "      <td>277.570007</td>\n",
       "      <td>287.809998</td>\n",
       "      <td>287.809998</td>\n",
       "      <td>54664800</td>\n",
       "      <td>TSLA</td>\n",
       "    </tr>\n",
       "    <tr>\n",
       "      <th>2022-09-29</th>\n",
       "      <td>282.760010</td>\n",
       "      <td>283.649994</td>\n",
       "      <td>265.779999</td>\n",
       "      <td>268.209991</td>\n",
       "      <td>268.209991</td>\n",
       "      <td>77620600</td>\n",
       "      <td>TSLA</td>\n",
       "    </tr>\n",
       "  </tbody>\n",
       "</table>\n",
       "<p>252 rows × 7 columns</p>\n",
       "</div>"
      ],
      "text/plain": [
       "                  Open        High         Low       Close   Adj Close  \\\n",
       "2021-09-30  260.333344  263.043335  258.333344  258.493347  258.493347   \n",
       "2021-10-01  259.466675  260.260010  254.529999  258.406677  258.406677   \n",
       "2021-10-04  265.500000  268.989990  258.706665  260.510010  260.510010   \n",
       "2021-10-05  261.600006  265.769989  258.066681  260.196655  260.196655   \n",
       "2021-10-06  258.733337  262.220001  257.739990  260.916656  260.916656   \n",
       "...                ...         ...         ...         ...         ...   \n",
       "2022-09-23  283.089996  284.500000  272.820007  275.329987  275.329987   \n",
       "2022-09-26  271.829987  284.089996  270.309998  276.010010  276.010010   \n",
       "2022-09-27  283.839996  288.670013  277.510010  282.940002  282.940002   \n",
       "2022-09-28  283.079987  289.000000  277.570007  287.809998  287.809998   \n",
       "2022-09-29  282.760010  283.649994  265.779999  268.209991  268.209991   \n",
       "\n",
       "              Volume Stock Name  \n",
       "2021-09-30  53868000       TSLA  \n",
       "2021-10-01  51094200       TSLA  \n",
       "2021-10-04  91449900       TSLA  \n",
       "2021-10-05  55297800       TSLA  \n",
       "2021-10-06  43898400       TSLA  \n",
       "...              ...        ...  \n",
       "2022-09-23  63748400       TSLA  \n",
       "2022-09-26  58076900       TSLA  \n",
       "2022-09-27  61925200       TSLA  \n",
       "2022-09-28  54664800       TSLA  \n",
       "2022-09-29  77620600       TSLA  \n",
       "\n",
       "[252 rows x 7 columns]"
      ]
     },
     "execution_count": 12,
     "metadata": {},
     "output_type": "execute_result"
    }
   ],
   "source": [
    "dataset"
   ]
  },
  {
   "cell_type": "code",
   "execution_count": 13,
   "metadata": {},
   "outputs": [],
   "source": [
    "dataset2 = dataset['Close']"
   ]
  },
  {
   "cell_type": "code",
   "execution_count": 14,
   "metadata": {},
   "outputs": [],
   "source": [
    "def split_train_test(data, test_days=50):\n",
    "    # test data = latest 20 days\n",
    "    train_size = len(data) - test_days\n",
    "    data_train = data[0:train_size]\n",
    "    data_test = data[train_size:]\n",
    "    return data_train, data_test"
   ]
  },
  {
   "cell_type": "code",
   "execution_count": 15,
   "metadata": {},
   "outputs": [],
   "source": [
    "dataset_train, dataset_test = split_train_test(dataset2)"
   ]
  },
  {
   "cell_type": "code",
   "execution_count": 16,
   "metadata": {},
   "outputs": [],
   "source": [
    "dataset_train, dataset_test = np.array(dataset_train).reshape(-1, 1), np.array(dataset_test).reshape(-1, 1)"
   ]
  },
  {
   "cell_type": "code",
   "execution_count": 17,
   "metadata": {},
   "outputs": [],
   "source": [
    "scaler = MinMaxScaler(feature_range=(0,1))\n",
    "# Normalizing values between 0 and 1 using training data to fit\n",
    "scaler.fit(dataset_train)\n",
    "scaled_train = scaler.fit_transform(dataset_train)\n",
    "scaled_test = scaler.fit_transform(dataset_test)"
   ]
  },
  {
   "cell_type": "code",
   "execution_count": 26,
   "metadata": {},
   "outputs": [
    {
     "data": {
      "text/plain": [
       "(202, 1)"
      ]
     },
     "execution_count": 26,
     "metadata": {},
     "output_type": "execute_result"
    }
   ],
   "source": [
    "scaled_train.shape"
   ]
  },
  {
   "cell_type": "code",
   "execution_count": 27,
   "metadata": {},
   "outputs": [
    {
     "data": {
      "text/plain": [
       "(50, 1)"
      ]
     },
     "execution_count": 27,
     "metadata": {},
     "output_type": "execute_result"
    }
   ],
   "source": [
    "scaled_test.shape"
   ]
  },
  {
   "cell_type": "markdown",
   "metadata": {},
   "source": [
    "### Sequencing"
   ]
  },
  {
   "cell_type": "code",
   "execution_count": 21,
   "metadata": {},
   "outputs": [],
   "source": [
    "def sequencing(data, sequence_size=40):\n",
    "    X, y = [],[]\n",
    "    for i in range(len(data) - sequence_size):\n",
    "        X.append(data[i:i+sequence_size]) # day0 to day39\n",
    "        y.append(data[i+1 :i+sequence_size+1]) # day1 to day40\n",
    "    return np.array(X), np.array(y)"
   ]
  },
  {
   "cell_type": "code",
   "execution_count": 22,
   "metadata": {},
   "outputs": [],
   "source": [
    "X_train, y_train = sequencing(scaled_train, sequence_size=40)\n",
    "X_test, y_test = sequencing(scaled_test, sequence_size=20)"
   ]
  },
  {
   "cell_type": "code",
   "execution_count": 24,
   "metadata": {},
   "outputs": [
    {
     "data": {
      "text/plain": [
       "(162, 40, 1)"
      ]
     },
     "execution_count": 24,
     "metadata": {},
     "output_type": "execute_result"
    }
   ],
   "source": [
    "X_train.shape"
   ]
  },
  {
   "cell_type": "code",
   "execution_count": 28,
   "metadata": {},
   "outputs": [
    {
     "name": "stdout",
     "output_type": "stream",
     "text": [
      "(162, 40, 1)\n",
      "(162, 40, 1)\n",
      "(30, 20, 1)\n",
      "(30, 20, 1)\n"
     ]
    }
   ],
   "source": [
    "print(X_train.shape) # 1 + 232 - 21 = 212\n",
    "print(y_train.shape)\n",
    "print(X_test.shape)\n",
    "print(y_test.shape)"
   ]
  },
  {
   "cell_type": "code",
   "execution_count": 29,
   "metadata": {},
   "outputs": [],
   "source": [
    "import torch\n",
    "import torch.nn as nn\n",
    "from torch.utils.data import DataLoader, TensorDataset"
   ]
  },
  {
   "cell_type": "code",
   "execution_count": 30,
   "metadata": {},
   "outputs": [],
   "source": [
    "device = torch.device(\"cuda\" if torch.cuda.is_available() else \"cpu\")"
   ]
  },
  {
   "cell_type": "code",
   "execution_count": 31,
   "metadata": {},
   "outputs": [],
   "source": [
    "import torch\n",
    "# Assuming X_train, y_train, X_test, y_test are already loaded as numpy arrays\n",
    "\n",
    "# Convert numpy arrays to PyTorch tensors\n",
    "X_train_tensor = torch.tensor(X_train, dtype=torch.float32)\n",
    "y_train_tensor = torch.tensor(y_train, dtype=torch.float32)\n",
    "X_test_tensor = torch.tensor(X_test, dtype=torch.float32)\n",
    "y_test_tensor = torch.tensor(y_test, dtype=torch.float32)\n",
    "\n",
    "# Create Tensor datasets\n",
    "train_dataset = TensorDataset(X_train_tensor, y_train_tensor)\n",
    "test_dataset = TensorDataset(X_test_tensor, y_test_tensor)\n",
    "\n",
    "# Create Data Loaders\n",
    "batch_size = 16\n",
    "train_loader = DataLoader(dataset=train_dataset, batch_size=batch_size, shuffle=True)\n",
    "test_loader = DataLoader(dataset=test_dataset, batch_size=batch_size, shuffle=False)"
   ]
  },
  {
   "cell_type": "code",
   "execution_count": 32,
   "metadata": {},
   "outputs": [
    {
     "data": {
      "text/plain": [
       "torch.Size([30, 20, 1])"
      ]
     },
     "execution_count": 32,
     "metadata": {},
     "output_type": "execute_result"
    }
   ],
   "source": [
    "X_test_tensor.shape"
   ]
  },
  {
   "cell_type": "markdown",
   "metadata": {},
   "source": [
    "# Model Building"
   ]
  },
  {
   "cell_type": "code",
   "execution_count": 33,
   "metadata": {},
   "outputs": [],
   "source": [
    "class AdvancedLSTMModel(nn.Module):\n",
    "    def __init__(self, input_dim, feature_size, hidden_dim, output_dim, num_layers=3, dropout=0.3\n",
    "    , device=device):\n",
    "        super(AdvancedLSTMModel, self).__init__()\n",
    "        self.hidden_dim = hidden_dim\n",
    "        self.num_layers = num_layers\n",
    "        self.lstm = nn.LSTM(input_size=feature_size, \n",
    "                            hidden_size=hidden_dim, \n",
    "                            num_layers=num_layers, \n",
    "                            batch_first=True, \n",
    "                            dropout=dropout if num_layers > 1 else 0.0)  # Dropout only between LSTM layers if num_layers > 1\n",
    "        #self.batch_norm = nn.BatchNorm1d(input_dim)  # Normalizing the inputs for each time step\n",
    "        self.linear = nn.Linear(hidden_dim, output_dim)  # Output layer\n",
    "        self.device = device\n",
    "\n",
    "    def forward(self, x):\n",
    "        # Batch normalization\n",
    "        #x = self.batch_norm(x)\n",
    "        \n",
    "        # Initialize hidden and cell states\n",
    "        # h0 = torch.zeros(self.num_layers, x.size(0), self.hidden_dim).to(self.device)\n",
    "        # c0 = torch.zeros(self.num_layers, x.size(0), self.hidden_dim).to(self.device)\n",
    "        out, _ = self.lstm(x)\n",
    "        # Tx = Ty because each step (i) predicts one output (i+1)\n",
    "        #out = self.linear(out)\n",
    "        out = self.linear(out)\n",
    "        return out"
   ]
  },
  {
   "cell_type": "code",
   "execution_count": 34,
   "metadata": {},
   "outputs": [
    {
     "data": {
      "text/plain": [
       "(162, 40, 1)"
      ]
     },
     "execution_count": 34,
     "metadata": {},
     "output_type": "execute_result"
    }
   ],
   "source": [
    "y_train.shape"
   ]
  },
  {
   "cell_type": "code",
   "execution_count": 45,
   "metadata": {},
   "outputs": [
    {
     "data": {
      "text/plain": [
       "40"
      ]
     },
     "execution_count": 45,
     "metadata": {},
     "output_type": "execute_result"
    }
   ],
   "source": [
    "X_train.shape[1] "
   ]
  },
  {
   "cell_type": "code",
   "execution_count": 35,
   "metadata": {},
   "outputs": [],
   "source": [
    "# Model configuration\n",
    "input_dim = X_train.shape[1] \n",
    "feature_size = X_train.shape[2] \n",
    "output_dim = y_train.shape[2]\n",
    "hidden_dim = 64\n",
    "\n",
    "model = AdvancedLSTMModel(input_dim, feature_size, hidden_dim, output_dim)\n",
    "model = model.to(device)\n",
    "\n",
    "criterion = nn.MSELoss(reduction='mean')\n",
    "optimizer = torch.optim.Adam(model.parameters(), lr=0.001, weight_decay=0.00)"
   ]
  },
  {
   "cell_type": "markdown",
   "metadata": {},
   "source": [
    "# Training"
   ]
  },
  {
   "cell_type": "code",
   "execution_count": 36,
   "metadata": {},
   "outputs": [],
   "source": [
    "def train_and_evaluate(model, train_loader, test_loader, criterion, optimizer, num_epochs=50):\n",
    "    model.train()\n",
    "    train_hist = []\n",
    "    test_hist = []\n",
    "    \n",
    "    for epoch in range(num_epochs):\n",
    "        # Training phase\n",
    "        model.train()\n",
    "        total_train_loss = 0\n",
    "        for batch_X, batch_y in train_loader:\n",
    "            batch_X, batch_y = batch_X.to(device), batch_y.to(device)\n",
    "            predictions = model(batch_X)\n",
    "            loss = criterion(predictions, batch_y)\n",
    "\n",
    "            optimizer.zero_grad()\n",
    "            loss.backward()\n",
    "            optimizer.step()\n",
    "            total_train_loss += loss.item()\n",
    "        avg_train_loss = total_train_loss / len(train_loader)\n",
    "        train_hist.append(avg_train_loss)\n",
    "        \n",
    "        # Testing phase\n",
    "        model.eval()\n",
    "        total_test_loss = 0\n",
    "        with torch.no_grad():  # Disable gradient computation during evaluation\n",
    "            for batch_X_test, batch_y_test in test_loader:\n",
    "                batch_X_test, batch_y_test = batch_X_test.to(device), batch_y_test.to(device)\n",
    "                predictions_test = model(batch_X_test)\n",
    "                test_loss = criterion(predictions_test, batch_y_test)\n",
    "                total_test_loss += test_loss.item()\n",
    "        avg_test_loss = total_test_loss / len(test_loader)\n",
    "        test_hist.append(avg_test_loss)\n",
    "        \n",
    "        print(f'Epoch {epoch+1}, Train Loss: {avg_train_loss:.4f}, Test Loss: {avg_test_loss:.4f}')\n",
    "    \n",
    "    return train_hist, test_hist"
   ]
  },
  {
   "cell_type": "code",
   "execution_count": 37,
   "metadata": {},
   "outputs": [
    {
     "name": "stdout",
     "output_type": "stream",
     "text": [
      "Epoch 1, Train Loss: 0.1600, Test Loss: 0.1059\n",
      "Epoch 2, Train Loss: 0.0711, Test Loss: 0.1253\n",
      "Epoch 3, Train Loss: 0.0676, Test Loss: 0.1055\n",
      "Epoch 4, Train Loss: 0.0647, Test Loss: 0.0866\n",
      "Epoch 5, Train Loss: 0.0566, Test Loss: 0.0978\n",
      "Epoch 6, Train Loss: 0.0477, Test Loss: 0.0861\n",
      "Epoch 7, Train Loss: 0.0353, Test Loss: 0.0880\n",
      "Epoch 8, Train Loss: 0.0302, Test Loss: 0.0758\n",
      "Epoch 9, Train Loss: 0.0259, Test Loss: 0.0697\n",
      "Epoch 10, Train Loss: 0.0217, Test Loss: 0.0716\n",
      "Epoch 11, Train Loss: 0.0195, Test Loss: 0.0651\n",
      "Epoch 12, Train Loss: 0.0186, Test Loss: 0.0633\n",
      "Epoch 13, Train Loss: 0.0171, Test Loss: 0.0598\n",
      "Epoch 14, Train Loss: 0.0161, Test Loss: 0.0585\n",
      "Epoch 15, Train Loss: 0.0152, Test Loss: 0.0547\n",
      "Epoch 16, Train Loss: 0.0143, Test Loss: 0.0546\n",
      "Epoch 17, Train Loss: 0.0143, Test Loss: 0.0516\n",
      "Epoch 18, Train Loss: 0.0133, Test Loss: 0.0495\n",
      "Epoch 19, Train Loss: 0.0127, Test Loss: 0.0483\n",
      "Epoch 20, Train Loss: 0.0116, Test Loss: 0.0460\n",
      "Epoch 21, Train Loss: 0.0116, Test Loss: 0.0443\n",
      "Epoch 22, Train Loss: 0.0112, Test Loss: 0.0427\n",
      "Epoch 23, Train Loss: 0.0110, Test Loss: 0.0414\n",
      "Epoch 24, Train Loss: 0.0105, Test Loss: 0.0400\n",
      "Epoch 25, Train Loss: 0.0099, Test Loss: 0.0383\n",
      "Epoch 26, Train Loss: 0.0099, Test Loss: 0.0380\n",
      "Epoch 27, Train Loss: 0.0097, Test Loss: 0.0355\n",
      "Epoch 28, Train Loss: 0.0090, Test Loss: 0.0353\n",
      "Epoch 29, Train Loss: 0.0090, Test Loss: 0.0333\n",
      "Epoch 30, Train Loss: 0.0085, Test Loss: 0.0319\n",
      "Epoch 31, Train Loss: 0.0084, Test Loss: 0.0310\n",
      "Epoch 32, Train Loss: 0.0084, Test Loss: 0.0295\n",
      "Epoch 33, Train Loss: 0.0082, Test Loss: 0.0291\n",
      "Epoch 34, Train Loss: 0.0078, Test Loss: 0.0278\n",
      "Epoch 35, Train Loss: 0.0073, Test Loss: 0.0271\n",
      "Epoch 36, Train Loss: 0.0072, Test Loss: 0.0264\n",
      "Epoch 37, Train Loss: 0.0072, Test Loss: 0.0261\n",
      "Epoch 38, Train Loss: 0.0071, Test Loss: 0.0252\n",
      "Epoch 39, Train Loss: 0.0068, Test Loss: 0.0252\n",
      "Epoch 40, Train Loss: 0.0070, Test Loss: 0.0243\n",
      "Epoch 41, Train Loss: 0.0066, Test Loss: 0.0240\n",
      "Epoch 42, Train Loss: 0.0064, Test Loss: 0.0236\n",
      "Epoch 43, Train Loss: 0.0063, Test Loss: 0.0234\n",
      "Epoch 44, Train Loss: 0.0062, Test Loss: 0.0234\n",
      "Epoch 45, Train Loss: 0.0061, Test Loss: 0.0224\n",
      "Epoch 46, Train Loss: 0.0062, Test Loss: 0.0228\n",
      "Epoch 47, Train Loss: 0.0060, Test Loss: 0.0224\n",
      "Epoch 48, Train Loss: 0.0058, Test Loss: 0.0222\n",
      "Epoch 49, Train Loss: 0.0060, Test Loss: 0.0223\n",
      "Epoch 50, Train Loss: 0.0057, Test Loss: 0.0223\n"
     ]
    }
   ],
   "source": [
    "train_losses, test_losses = train_and_evaluate(model, train_loader, test_loader, criterion, optimizer)"
   ]
  },
  {
   "cell_type": "code",
   "execution_count": 38,
   "metadata": {},
   "outputs": [
    {
     "data": {
      "image/png": "[encoded data removed]",
      "text/plain": [
       "<Figure size 700x400 with 1 Axes>"
      ]
     },
     "metadata": {},
     "output_type": "display_data"
    }
   ],
   "source": [
    "# Plotting the training losses\n",
    "plt.figure(figsize=(7, 4))\n",
    "plt.plot(train_losses, linestyle='-', label = 'Training Loss')\n",
    "plt.plot(test_losses, linestyle='-', color = 'orange', label = 'Testing Loss')\n",
    "\n",
    "plt.title('Training Loss (batch avg, Normalised) per Epoch')\n",
    "plt.xlabel('Epoch')\n",
    "plt.ylabel('Mean Squared Error Loss')\n",
    "plt.grid(axis='x')\n",
    "plt.legend()\n",
    "plt.show()"
   ]
  },
  {
   "cell_type": "markdown",
   "metadata": {},
   "source": [
    "# Prediction Results"
   ]
  },
  {
   "cell_type": "markdown",
   "metadata": {},
   "source": [
    "After training the neural network on the provided data, now comes the forecasting for next month. The model predicts the future opening price and store the future values along with their corresponding dates. Using for loop, we are going to perform a rolling forecasting, the steps are as follows –\n",
    "\n",
    "- We have set the future time steps to 30 and converted the test sequence to numpy array and remove singleton dimensions using sequence_to_plot.\n",
    "- Then, we have converted historical_data to a Pytorch tensor. The shape of the tensor is (1, sequence_length, 1), where sequence_length is the length of the historical data sequence.\n",
    "- the model further predicts the next value based on the ‘historical_data_tensor’.\n",
    "- The prediction is then converted to a numpy array and the first element is extracted.\n",
    "\n",
    "Once the loop ends, we get the forecasted values, which are stored in list, and future dates are generated to create index for these values."
   ]
  },
  {
   "cell_type": "code",
   "execution_count": 40,
   "metadata": {},
   "outputs": [
    {
     "data": {
      "text/plain": [
       "[<matplotlib.lines.Line2D at 0x3179c9890>]"
      ]
     },
     "execution_count": 40,
     "metadata": {},
     "output_type": "execute_result"
    },
    {
     "data": {
      "image/png": "[encoded data removed]",
      "text/plain": [
       "<Figure size 640x480 with 1 Axes>"
      ]
     },
     "metadata": {},
     "output_type": "display_data"
    }
   ],
   "source": [
    "plt.plot(X_test[0])"
   ]
  },
  {
   "cell_type": "code",
   "execution_count": 44,
   "metadata": {},
   "outputs": [
    {
     "data": {
      "text/plain": [
       "array([[0.25459124],\n",
       "       [0.26522703],\n",
       "       [0.18972116],\n",
       "       [0.        ],\n",
       "       [0.31629043],\n",
       "       [0.43678159],\n",
       "       [0.75881871],\n",
       "       [0.76132918],\n",
       "       [0.82692561],\n",
       "       [0.96188389],\n",
       "       [0.98639168],\n",
       "       [0.58085643],\n",
       "       [0.6255121 ],\n",
       "       [0.4850049 ],\n",
       "       [0.70346132],\n",
       "       [0.55033705],\n",
       "       [0.81589369],\n",
       "       [1.        ],\n",
       "       [0.94536896],\n",
       "       [0.89450394]])"
      ]
     },
     "execution_count": 44,
     "metadata": {},
     "output_type": "execute_result"
    }
   ],
   "source": [
    "X_test[0]"
   ]
  },
  {
   "cell_type": "code",
   "execution_count": 41,
   "metadata": {},
   "outputs": [
    {
     "data": {
      "text/plain": [
       "(20, 1)"
      ]
     },
     "execution_count": 41,
     "metadata": {},
     "output_type": "execute_result"
    }
   ],
   "source": [
    "X_test[0].shape"
   ]
  },
  {
   "cell_type": "code",
   "execution_count": 42,
   "metadata": {},
   "outputs": [],
   "source": [
    "num_forecast_steps = 50 #20\n",
    "\n",
    "historical_data = X_test[0]  # This is the last known sequence to start predictions from\n",
    "forecasted_values = []"
   ]
  },
  {
   "cell_type": "code",
   "execution_count": 43,
   "metadata": {},
   "outputs": [
    {
     "data": {
      "text/plain": [
       "(20, 1)"
      ]
     },
     "execution_count": 43,
     "metadata": {},
     "output_type": "execute_result"
    }
   ],
   "source": [
    "historical_data.shape"
   ]
  },
  {
   "cell_type": "code",
   "execution_count": 62,
   "metadata": {},
   "outputs": [],
   "source": [
    "model.eval()\n",
    "model.to(device)\n",
    "with torch.no_grad():\n",
    "    for _ in range(num_forecast_steps):\n",
    "        # 1 tensor data in a batch\n",
    "        historical_data_tensor = torch.tensor(historical_data, dtype=torch.float32).unsqueeze(0).to(device)\n",
    "        #print(historical_data_tensor.shape)\n",
    "\n",
    "        predicted_tensor = model(historical_data_tensor)\n",
    "        #print(predicted_tensor.shape)\n",
    "\n",
    "        predicted_value = predicted_tensor.cpu().numpy()[0,0]\n",
    "        #print(predicted_value)\n",
    "        forecasted_values.append(predicted_value.tolist())\n",
    "        historical_data = np.roll(historical_data, shift=-1)\n",
    "        historical_data[-1] = predicted_value  # Update the sequence with the new prediction"
   ]
  },
  {
   "cell_type": "code",
   "execution_count": 63,
   "metadata": {},
   "outputs": [
    {
     "data": {
      "text/plain": [
       "2021-09-30    258.493347\n",
       "2021-10-01    258.406677\n",
       "2021-10-04    260.510010\n",
       "2021-10-05    260.196655\n",
       "2021-10-06    260.916656\n",
       "                 ...    \n",
       "2022-09-23    275.329987\n",
       "2022-09-26    276.010010\n",
       "2022-09-27    282.940002\n",
       "2022-09-28    287.809998\n",
       "2022-09-29    268.209991\n",
       "Name: Close, Length: 252, dtype: float64"
      ]
     },
     "execution_count": 63,
     "metadata": {},
     "output_type": "execute_result"
    }
   ],
   "source": [
    "dataset2"
   ]
  },
  {
   "cell_type": "code",
   "execution_count": 64,
   "metadata": {},
   "outputs": [],
   "source": [
    "dates = dataset2.index[-50:]"
   ]
  },
  {
   "cell_type": "code",
   "execution_count": 66,
   "metadata": {},
   "outputs": [],
   "source": [
    "pred_price = scaler.inverse_transform(forecasted_values)[:,0]"
   ]
  },
  {
   "cell_type": "code",
   "execution_count": 74,
   "metadata": {},
   "outputs": [
    {
     "data": {
      "image/png": "[encoded data removed]",
      "text/plain": [
       "<Figure size 1100x600 with 1 Axes>"
      ]
     },
     "metadata": {},
     "output_type": "display_data"
    }
   ],
   "source": [
    "fig, ax = plt.subplots(figsize=(11,6))\n",
    "ax.plot(dataset2.index[-100:], dataset2[-100:], label='Actual Values', color='#008B8B', alpha=0.25)\n",
    "ax.plot(dates, pred_price, label='Predicted Prices', color='#008B8B', linestyle='--', alpha=1)\n",
    "\n",
    "ax.set_xlabel('Date', fontsize=14)\n",
    "ax.set_ylabel('USD', fontsize=14, color='#008B8B')\n",
    "ax.tick_params(axis='y', labelcolor='#008B8B')\n",
    "\n",
    "ax.set_title(f\"Tesla: Stock Price Prediction\", fontsize=16)\n",
    "\n",
    "lines, labels = ax.get_legend_handles_labels()\n",
    "ax.legend(lines, labels) #loc='upper right'\n",
    "\n",
    "#plt.xlim(dataset2.index[-100], dataset2.index[-1])\n",
    "ax.grid(False)\n",
    "plt.show()"
   ]
  }
 ],
 "metadata": {
  "kernelspec": {
   "display_name": "base",
   "language": "python",
   "name": "python3"
  },
  "language_info": {
   "codemirror_mode": {
    "name": "ipython",
    "version": 3
   },
   "file_extension": ".py",
   "mimetype": "text/x-python",
   "name": "python",
   "nbconvert_exporter": "python",
   "pygments_lexer": "ipython3",
   "version": "3.11.5"
  }
 },
 "nbformat": 4,
 "nbformat_minor": 2
}
